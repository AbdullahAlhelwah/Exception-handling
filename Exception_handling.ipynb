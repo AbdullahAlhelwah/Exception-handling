{
  "cells": [
    {
      "cell_type": "markdown",
      "metadata": {
        "id": "view-in-github",
        "colab_type": "text"
      },
      "source": [
        "<a href=\"https://colab.research.google.com/github/AbdullahAlhelwah/Exception-handling/blob/main/Exception_handling.ipynb\" target=\"_parent\"><img src=\"https://colab.research.google.com/assets/colab-badge.svg\" alt=\"Open In Colab\"/></a>"
      ]
    },
    {
      "cell_type": "markdown",
      "metadata": {
        "id": "nWH2jFiM0hK1"
      },
      "source": [
        "<center>\n",
        "    \n",
        "    \n",
        "# Practice Exercises\n",
        "\n",
        "</center>\n"
      ]
    },
    {
      "cell_type": "markdown",
      "metadata": {
        "id": "ZDCm7c-m0hK2"
      },
      "source": [
        "## Exercise 1: Handling ZeroDivisionError\n"
      ]
    },
    {
      "cell_type": "markdown",
      "metadata": {
        "id": "pfQsi1AP0hK3"
      },
      "source": [
        "Imagine you have two numbers and want to determine what happens when you divide one number by the other. To do this, you need to create a Python function called `safe_divide.` You give this function two numbers, a `'numerator'` and a `'denominator'`. The 'numerator' is the number you want to divide, and the `'denominator'` is the number you want to divide by. Use the user input method of Python to take the values.\n",
        "\n",
        "The function should be able to do the division for you and give you the result. But here's the catch: if you try to divide by zero (which is not allowed in math), the function should be smart enough to catch that and tell you that it's not possible to divide by zero. Instead of showing an error, it should return None, which means 'nothing' or 'no value', and print `\"Error: Cannot divide by Zero.`\n"
      ]
    },
    {
      "cell_type": "code",
      "execution_count": null,
      "metadata": {
        "tags": [],
        "id": "Rdccm0D60hK4",
        "outputId": "592a81fb-3f5b-42d8-e79c-f6ba5d1588f1"
      },
      "outputs": [
        {
          "name": "stdin",
          "output_type": "stream",
          "text": [
            "Enter numerator:  7\n",
            "Enter denominator:  2\n"
          ]
        },
        {
          "name": "stdout",
          "output_type": "stream",
          "text": [
            "3.5\n"
          ]
        }
      ],
      "source": [
        "#Type your code here\n",
        "def safe_divide():\n",
        "    try:\n",
        "        numerator = int(input(\"Enter numerator: \"))\n",
        "        denominator = int(input(\"Enter denominator: \"))\n",
        "        result = numerator/ denominator\n",
        "    except ZeroDivisionError:\n",
        "        print(\"Error: Cannot divide by Zero\")\n",
        "        result = None\n",
        "    except ValueError:\n",
        "        print(\"Inputs must be numbers\")\n",
        "        result = None\n",
        "    finally:\n",
        "        return result\n",
        "\n",
        "print(safe_divide())"
      ]
    },
    {
      "cell_type": "markdown",
      "metadata": {
        "id": "9-0Jc4qX0hK8"
      },
      "source": [
        "## Exercise 2: Handling ValueError\n"
      ]
    },
    {
      "cell_type": "markdown",
      "metadata": {
        "id": "D9_Hxqcr0hK9"
      },
      "source": [
        "Imagine you have a number and want to calculate its square root. To do this, you need to create a Python function. You give this function one number, `'number1'`.\n",
        "\n",
        "The function should generate the square root value if you provide a positive integer or float value as input. However, the function should be clever enough to detect the mistake if you enter a negative value. It should kindly inform you with a message saying, `'Invalid input! Please enter a positive integer or a float value.`\n"
      ]
    },
    {
      "cell_type": "code",
      "execution_count": null,
      "metadata": {
        "tags": [],
        "id": "nm8AemQp0hK-",
        "outputId": "f0334ed9-2922-473d-b498-79dd74d86f5a"
      },
      "outputs": [
        {
          "name": "stdin",
          "output_type": "stream",
          "text": [
            "Please enter a number 7\n"
          ]
        },
        {
          "name": "stdout",
          "output_type": "stream",
          "text": [
            "2.6457513110645907\n"
          ]
        }
      ],
      "source": [
        "#Type your code here\n",
        "import math\n",
        "\n",
        "def square_root(a):\n",
        "    try:\n",
        "        result = math.sqrt(float(a))\n",
        "        return result\n",
        "    except ValueError:\n",
        "        print(\"Invalid input! Please enter a positive integer or a float value.\")\n",
        "input0 = input(\"Please enter a number\")\n",
        "result = square_root(input0)\n",
        "if result is not None:\n",
        "    print(result)"
      ]
    },
    {
      "cell_type": "markdown",
      "metadata": {
        "id": "fszZoLd30hLB"
      },
      "source": [
        "## Exercise 3: Handling Generic Exceptions\n"
      ]
    },
    {
      "cell_type": "markdown",
      "metadata": {
        "id": "V_C2OueD0hLC"
      },
      "source": [
        "Imagine you have a number and want to perform a complex mathematical task. The calculation requires dividing the value of the input argument `\"num\"` by the difference between `\"num\"` and 5, and the result has to be stored in a variable called `\"result\"`.\n",
        "\n",
        "You have to define a function so that it can perform that complex mathematical task. The function should handle any potential errors that occur during the calculation. To do this, you can use a try-except block. If any exception arises during the calculation, it should catch the error using the generic exception class `\"Exception\" as \"e\"`. When an exception occurs, the function should display `\"An error occurred during calculation.`\n"
      ]
    },
    {
      "cell_type": "code",
      "execution_count": null,
      "metadata": {
        "id": "IYOr4sbE0hLD"
      },
      "outputs": [],
      "source": [
        "#Type your code here\n",
        "def calculations(num):\n",
        "    try:\n",
        "        result = num/(num-5)\n",
        "        return result\n",
        "    except:\n",
        "        print(\"An error occurred during calculations.\")\n",
        "\n",
        "input0 = input(\"Enter a number to perform the calculations: \")\n",
        "calc"
      ]
    },
    {
      "cell_type": "markdown",
      "metadata": {
        "id": "x08c3mlq0hLE"
      },
      "source": [
        "**Note:- Practice handling exceptions by trying different input types like using integers, strings, zero, negative values, or other data types.**\n"
      ]
    },
    {
      "cell_type": "markdown",
      "metadata": {
        "id": "4iCTy_nk0hLG"
      },
      "source": [
        "## Authors\n"
      ]
    },
    {
      "cell_type": "markdown",
      "metadata": {
        "id": "V_8Wi2PO0hLH"
      },
      "source": [
        "<a href=\"https://www.linkedin.com/in/joseph-s-50398b136/\" target=\"_blank\">Joseph Santarcangelo</a>\n"
      ]
    },
    {
      "cell_type": "markdown",
      "metadata": {
        "id": "KCccI8oq0hLH"
      },
      "source": [
        "## Change Log\n",
        "\n",
        "|  Date (YYYY-MM-DD) |  Version | Changed By  |  Change Description |\n",
        "|---|---|---|---|\n",
        "| 2023-11-02 | 2.2 | Abhishek Gagneja | Updated instructions |\n",
        "| 2023-08-01 | 2.1   | Akansha Yadav | Added optional practice section |\n",
        "| 2020-09-02  | 2.0  | Simran | Template updates to the file|\n",
        "|   |   |   |   |\n",
        "\n",
        "\n",
        "\n",
        "\n",
        "## <h3 align=\"center\"> © IBM Corporation 2023. All rights reserved. <h3/>\n"
      ]
    },
    {
      "cell_type": "code",
      "execution_count": null,
      "metadata": {
        "id": "MLfO3xet0hLJ"
      },
      "outputs": [],
      "source": []
    }
  ],
  "metadata": {
    "kernelspec": {
      "display_name": "Python",
      "language": "python",
      "name": "conda-env-python-py"
    },
    "language_info": {
      "codemirror_mode": {
        "name": "ipython",
        "version": 3
      },
      "file_extension": ".py",
      "mimetype": "text/x-python",
      "name": "python",
      "nbconvert_exporter": "python",
      "pygments_lexer": "ipython3",
      "version": "3.7.12"
    },
    "colab": {
      "provenance": [],
      "include_colab_link": true
    }
  },
  "nbformat": 4,
  "nbformat_minor": 0
}